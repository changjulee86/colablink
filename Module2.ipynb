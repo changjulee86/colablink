{
  "nbformat": 4,
  "nbformat_minor": 0,
  "metadata": {
    "colab": {
      "provenance": []
    },
    "kernelspec": {
      "name": "python3",
      "display_name": "Python 3"
    },
    "language_info": {
      "name": "python"
    }
  },
  "cells": [
    {
      "cell_type": "markdown",
      "source": [
        "Colab Tip\n",
        "  1. 상단에 동물들이 나타나게 하는 설정 : 도구 - 설정 - 기타 - 선호하는 동물 선택(3가지 : 코기, 아기고양이, 게)\n",
        "  2. 테마(색상) 설정 : 도구 - 설정 - 사이트 - 테마선택\n",
        "  3. 코드 혹은 텍스트 중 하나를 선택해서 작성 가능 : 셀 하단부에 마우스 커서를 가져가면 선택하는 창이 나옴"
      ],
      "metadata": {
        "id": "4m2h37abjzjK"
      }
    },
    {
      "cell_type": "markdown",
      "source": [
        " 자주 사용하는 단축키\n",
        "  - 선택된 셀을 실행 : Ctrl + Enter\n",
        "  - 선택된 셀을 실행 후 다음 셀로 포커스 이동 : Shift + Enter\n",
        "  - 실행 후 다음줄로 이동 : Alt + Enter\n",
        "  - 선택모드에서 화살표 방향키 : 셀 포커스를 위 아래로 움직일 수 있음\n",
        "  - 엔터키 : 편집모드(Vi 편집기와 유사)\n",
        "  - ESC : 선택모드(Vi 편집기와 유사)\n",
        "  - 마크다운으로 전환 : Ctrl + M M\n",
        "  - 코드로 전환 : Ctrl + M Y\n",
        "  - 저장 : Ctrl + S\n",
        "\n",
        "  - 코드셀에 줄번호 부여 : Ctrl + M L\n",
        "  - 바로 윗줄에 셀 생성 : Ctrl + M A\n",
        "  - 바로 아랫줄에 셀 생성 : Ctrl + M B\n",
        "  - 셀 삭제 : Ctrl + M D\n",
        "\n",
        "  - 셀 병합 : (shift를 누른 상태에서 병합을 원하는 셀들을 한번에 다중 선택 후), Shift + M\n",
        "  - 셀 분할 : (분기를 원하는 부분에 커서를 지정 후), Ctrl + Shift + -\n",
        "\n",
        "  - 코드가 오래 실행되어 멈추고 싶은경우 : Ctrl+ M + I\n",
        "  - 위 코드로도 멈추지 않고 작업을 완전종료하고 싶은 경우 : Ctrl + M +."
      ],
      "metadata": {
        "id": "8xIvJOfOj2nk"
      }
    },
    {
      "cell_type": "markdown",
      "source": [
        "# Module 2 - Data types, variables, basic input-output operations, basic operators\n",
        "(모듈2 - 데이터 유형, 변수, 기본 입출력 연산, 기본 연산자)\n",
        "\n",
        " - 모듈2에서 학습하고자 하는 내용\n",
        "    1. 간단한 Python 프로그램을 작성하고 실행하는 방법\n",
        "    2. Python 리터럴, 연산자 및 표현식\n",
        "    3. 변수와 이를 지배하는 규칙\n",
        "    4. 기본적인 입ㆍ출력 작업을 수행하는 방법"
      ],
      "metadata": {
        "id": "aFy6AbLAkr3y"
      }
    },
    {
      "cell_type": "markdown",
      "source": [
        "# print 함수\n",
        "\n",
        "  print(\"Hello, World!\")  ←  옆에 있는 print라는 단어는 함수의 이름.\n",
        "  \n",
        "  단어가 쓰여지는 것이 항상 함수 이름을 의미하는 것은 아니며 단어의 의미는 해당 단어가 사용된 상황에서 나옴\n",
        "\n",
        " - 함수는 컴퓨터 코드의 부분으로 아래와 같이 다음을 수행할 수 있습니다.\n",
        "\n",
        "   1. 어떠한 효과(텍스트 보내기, 파일 만들기, 이미지 그리기, 사운드 재생 등)를 가져올 수 있음.\n",
        "   2. 값을 평가하고 이를 함수의 결과로 도출합니다.(값의 예: 값의 제곱근 또는 주어진 텍스트의 길이)\n",
        "\n",
        "   → Python 함수는 위의 두 가지 작업(효과유발, 값 평가 및 함수 결과로 도출)을 함께 수행할 수 있습니다.\n",
        "\n",
        "\n",
        " - 함수는 어디에서 오는가?\n",
        "\n",
        "   1. 함수는 Python 자체에 있으며 print 함수는 이러한 종류 중 하나임.\n",
        "   2. 하나 이상의 Python 추가 기능인 모듈에서 나올 수 있음.\n",
        "      일부 모듈은 Python과 함께 제공되고 다른 모듈은 별도의 설치가 필요할 수\n",
        "      있으며 어떤 경우든 코드와 연결되어야함.\n",
        "   3. 프로그램을 더 간단하고 명확하게 만들기 위해 프로그램 내에 원하는 만큼 기능을 직접 작성할 수 있음.\n",
        "    \n",
        "---\n",
        "   다음으로 매우 중요한 함수 구성 요소인 인수가 있음.\n",
        "\n",
        "개인의 필요에 따라 작업을 수행하는 데 필요한 만큼 인수를 사용함.\n",
        "\n",
        "＊참고: 모든 숫자에는 0이 포함되며 일부 Python 함수에는 인수가 필요하지 않음"
      ],
      "metadata": {
        "id": "KAykpDiUjl03"
      }
    },
    {
      "cell_type": "markdown",
      "source": [
        "print(\"Hello, World!\")\n",
        "\n",
        "- 필요한/제공된 인수의 수에도 불구하고 Python 함수는 한 쌍의 괄호 (여는 괄호, 닫는 괄호)가 필요함\n",
        "- 하나 이상의 인수를 함수에 전달하려면 해당 인수를 괄호 안에 넣어야 하며 인수를 사용하지 않는 함수를 사용하려해도 괄호는 필요함.\n",
        "  \n",
        "  ＊ 참고: 일반 단어와 함수 이름을 구별하려면 이름 뒤에 빈 괄호 한 쌍 유무를 확인하면 됨.(이는 표준 규칙임)\n",
        "\n",
        "- 문자열은 따옴표로 구분되며 실제로 따옴표가 문자열을 만들게 됨\n",
        "\n",
        "  ＊ 따옴표 안에 넣은 거의 모든 내용은 문자 및 코드가 아닌 데이터라고 이해해야함\n"
      ],
      "metadata": {
        "id": "0XjRGqmnmWKp"
      }
    },
    {
      "cell_type": "markdown",
      "source": [
        "함수 이름(이 경우는 print)은 괄호 및 인수와 함께 함수 호출을 구성합니다 .\n",
        "\n",
        "print(\"Hello, World!\")\n",
        "\n",
        "Python이 아래와 같은 호출을 만나면 어떻게 될까요?\n",
        "\n",
        "-> function_name(argument)\n",
        "\n",
        "- 먼저, Python은 지정된 이름이 유효한지 확인함.\n",
        "  \n",
        "  (그 이름의 기존 함수를 찾기 위해 내부 데이터를 탐색\n",
        "  \n",
        "    → 이 검색이 실패하면 Python은 코드를 중단함).\n",
        "- 둘째, Python은 인수 수에 대한 함수의 요구 사항이 함수를 호출할 수 있는지 확인\n",
        "\n",
        "  (예. 특정 함수가 정확히 두 개의 인수를 요구하는 경우 인수를 하나만 전달하는 호출은 잘못된 것으로 간주 → 코드의 호출을 중단함)\n",
        "- 셋째, Python은 잠시 동안 코드를 두고 호출하려는 함수로 이동\n",
        "- 넷째, 함수는 코드를 실행 → 원하는 효과를 발생 → 원하는 결과를 평가 후 작업을 완료\n",
        "- 마지막으로 Python은 코드 (호출 바로 다음 위치)로 돌아가서 실행을 재개합니다.\n",
        "  \n",
        "  ＊ 코드로 돌아가서 코드가 끝난 호출 바로 다음 위치에 가서\n",
        "     \n",
        "   실행을 재개할 준비를 함\n",
        "\n",
        "⛹ 코드실행\n",
        "\n",
        "- 아래는 프린트 함수에 있어서 큰따옴표의 유무에 따른 실행결과임(작은따옴표 포함)"
      ],
      "metadata": {
        "id": "L1LSAzIvqHYB"
      }
    },
    {
      "cell_type": "code",
      "source": [
        "print(\"hello, python!!\")\n",
        "print('hello, python!!')\n",
        "→ 한 셀의 다른 줄로 함수 호출을 해도 문제가 없음"
      ],
      "metadata": {
        "colab": {
          "base_uri": "https://localhost:8080/"
        },
        "id": "No44KW0Pr2NB",
        "outputId": "23543008-dec0-4046-e0a0-907960a7afd9"
      },
      "execution_count": 7,
      "outputs": [
        {
          "output_type": "stream",
          "name": "stdout",
          "text": [
            "hello, python!!\n",
            "hello, python!!\n"
          ]
        }
      ]
    },
    {
      "cell_type": "code",
      "source": [
        "print(hello, python!!)\n",
        "→ 1번째 줄에 문제가 있음을 나타냄"
      ],
      "metadata": {
        "colab": {
          "base_uri": "https://localhost:8080/",
          "height": 147
        },
        "id": "ccblhtqEsC2K",
        "outputId": "87748352-d114-435c-fab8-926c3ddee7a2"
      },
      "execution_count": 3,
      "outputs": [
        {
          "output_type": "error",
          "ename": "SyntaxError",
          "evalue": "ignored",
          "traceback": [
            "\u001b[0;36m  File \u001b[0;32m\"<ipython-input-3-cc3838a55728>\"\u001b[0;36m, line \u001b[0;32m1\u001b[0m\n\u001b[0;31m    print(hello, python!!)\u001b[0m\n\u001b[0m                       ^\u001b[0m\n\u001b[0;31mSyntaxError\u001b[0m\u001b[0;31m:\u001b[0m invalid syntax\n"
          ]
        }
      ]
    },
    {
      "cell_type": "code",
      "source": [
        "print(\"hello, python!!\")\n",
        "print('hello, python!!')\n",
        "print(hello, python!!)\n",
        "→ 3번째 줄에 문제가 있음을 나타냄"
      ],
      "metadata": {
        "colab": {
          "base_uri": "https://localhost:8080/",
          "height": 147
        },
        "id": "SlrEmejXsvLJ",
        "outputId": "c9fe73bd-8261-41b7-ffcd-14be2655e0d9"
      },
      "execution_count": 8,
      "outputs": [
        {
          "output_type": "error",
          "ename": "SyntaxError",
          "evalue": "ignored",
          "traceback": [
            "\u001b[0;36m  File \u001b[0;32m\"<ipython-input-8-fad0bd012391>\"\u001b[0;36m, line \u001b[0;32m3\u001b[0m\n\u001b[0;31m    print(hello, python!!)\u001b[0m\n\u001b[0m                       ^\u001b[0m\n\u001b[0;31mSyntaxError\u001b[0m\u001b[0;31m:\u001b[0m invalid syntax\n"
          ]
        }
      ]
    },
    {
      "cell_type": "markdown",
      "source": [
        "print () 함수 - 지침\n",
        "\n",
        " 핵심은 파이썬 코드에 두 개 이상의 명령을 어떻게 결합하는가?\n",
        "- 대부분의 프로그래밍 언어와 달리 Python에서는 한 줄에 두 개 이상의 명령이 있을 수 없음.\n",
        "\n",
        "- 한 줄은 비어 있을 수 있지만(즉, 명령어가 전혀 포함되지 않을 수 있음) 2개, 3개 또는 그 이상의 명령어가 포함되어서는 안 되며 이는 엄격히 금지됨.\n",
        "\n",
        " ＊ 참고: Python에는 이 규칙에 대한 한 가지 예외가 있음.\n",
        "\n",
        "　　즉, 하나의 명령어(프린트)가 두 줄 이상에 걸쳐 분산되도록 허용\n",
        "　　(코드에 복잡한 구성이 포함되어 있는 경우 도움이 됨)\n",
        "\n",
        "⛹ 코드실행 ⛹\n",
        "\n",
        "이제 Python 콘솔 값은 아래와 같아야 함."
      ],
      "metadata": {
        "id": "a_u60H7ZtGWE"
      }
    },
    {
      "cell_type": "code",
      "source": [
        "print(\"The itsy bitsy spider climbed up the waterspout.\")\n",
        "print(\"Down came the rain and washed the spider out.\")\n",
        "\n",
        "1. 함수를 두 번 호출하며 print() 콘솔에서 두 개의 별도 라인을 볼 수 있으며 시작할 때마다 새 라인에서 출력을 시작\n",
        "2. 각 print()호출에는 인수와 콘솔 내용이 이를 반영하는 다른 문자열이 포함됨\n",
        "3. 이는 코드의 명령이 소스 파일에 배치된 것과 동일한 순서로 실행된다는 의미\n",
        "4. 이전 명령이 완료될 때까지 다음 명령은 실행되지 않음"
      ],
      "metadata": {
        "colab": {
          "base_uri": "https://localhost:8080/"
        },
        "id": "vgmxQtq-u_yz",
        "outputId": "223b5bf6-a39a-413b-ac31-c90741019e47"
      },
      "execution_count": 9,
      "outputs": [
        {
          "output_type": "stream",
          "name": "stdout",
          "text": [
            "The itsy bitsy spider climbed up the waterspout.\n",
            "Down came the rain and washed the spider out.\n"
          ]
        }
      ]
    },
    {
      "cell_type": "markdown",
      "source": [
        " ⛹ 코드실행 ⛹\n",
        "\n",
        "  print() 함수 호출을 하나 추가함\n",
        "\n",
        "함수에 인수를 전달하지 않았기 때문에 이를 비어 있다고 함.\n",
        "\n",
        "이것이 출력 콘솔에서 개행문자를 생성하는 유일한 방법은 아님.\n",
        "\n",
        "\n",
        "---\n",
        "\n",
        "\n",
        "＊ 개행 : 정보·통신 인쇄 위치 또는 표시 위치를 다음 행의 같은 위치로 움직이는 일.\n",
        "\n",
        "＊ 개행문자 : 전산 인쇄 위치 또는 표시 위치를 다음의 행으로 옮기는 데 사용되는 문자."
      ],
      "metadata": {
        "id": "1KRpqhLrv32U"
      }
    },
    {
      "cell_type": "code",
      "source": [
        "print(\"The itsy bitsy spider climbed up the waterspout.\")\n",
        "print()\n",
        "print(\"Down came the rain and washed the spider out.\")\n",
        "\n",
        "두번째 줄의 빈 print()호출은 빈칸 한 줄을 생성할 수 있음"
      ],
      "metadata": {
        "colab": {
          "base_uri": "https://localhost:8080/"
        },
        "id": "7C29m7m3wNFo",
        "outputId": "7f745fd8-b50b-45be-cbcb-e707a8c639a2"
      },
      "execution_count": 10,
      "outputs": [
        {
          "output_type": "stream",
          "name": "stdout",
          "text": [
            "The itsy bitsy spider climbed up the waterspout.\n",
            "\n",
            "Down came the rain and washed the spider out.\n"
          ]
        }
      ]
    },
    {
      "cell_type": "code",
      "source": [
        "print(\"The itsy bitsy spider climbed up the waterspout.\")\n",
        "print(\"Down came the rain and washed the spider out.\")"
      ],
      "metadata": {
        "colab": {
          "base_uri": "https://localhost:8080/"
        },
        "id": "6AEVqdl8wYdX",
        "outputId": "c8c0cf11-d9ab-48e9-d4f4-97af79bb99c7"
      },
      "execution_count": 11,
      "outputs": [
        {
          "output_type": "stream",
          "name": "stdout",
          "text": [
            "The itsy bitsy spider climbed up the waterspout.\n",
            "Down came the rain and washed the spider out.\n"
          ]
        }
      ]
    },
    {
      "cell_type": "markdown",
      "source": [
        "print () 함수 - 이스케이프 및 개행 문자\n",
        "\n",
        " ⛹ 코드실행 ⛹\n",
        "\n",
        " 운율 안에 다음과 같은 별도의 문자 쌍을 삽입함.\n",
        "\n",
        " ( \\n.: 백슬래시 뒤에 있는 n은 newlinen 이라는 단어에서 유래)\n",
        "\n",
        " ＊ 백슬래시( \\)는 문자열 내부에서 사용될 때 매우 특별한\n",
        "\n",
        " 　의미를 갖는데 이를 이스케이프 문자라고 함"
      ],
      "metadata": {
        "id": "4lDBYKqCxGVO"
      }
    },
    {
      "cell_type": "code",
      "source": [
        "print(\"The itsy bitsy spider\\nclimbed up the waterspout.\")\n",
        "print()\n",
        "print(\"Down came the rain\\nand washed the spider out.\")\n",
        "\n",
        "백슬래시와 n은 모두 개행 문자 라는 특수 기호를 형성하며, 이는 콘솔이 새 출력 행을 시작하도록 함"
      ],
      "metadata": {
        "colab": {
          "base_uri": "https://localhost:8080/"
        },
        "id": "TfTRwIqexNrB",
        "outputId": "dd2d8ed5-331d-49df-ae56-92ef38c3de2d"
      },
      "execution_count": 12,
      "outputs": [
        {
          "output_type": "stream",
          "name": "stdout",
          "text": [
            "The itsy bitsy spider\n",
            "climbed up the waterspout.\n",
            "\n",
            "Down came the rain\n",
            "and washed the spider out.\n"
          ]
        }
      ]
    },
    {
      "cell_type": "code",
      "source": [
        "print(\"\\\")\n",
        "\n",
        "문자열 안에 백슬래시 하나만 넣는 호출은 오류를 발생\n",
        "＊ 백슬래시하나로 개행문자를 만들수는 없음"
      ],
      "metadata": {
        "colab": {
          "base_uri": "https://localhost:8080/",
          "height": 147
        },
        "id": "0xmK_IrlytUP",
        "outputId": "44b6fdde-2253-4135-e5bd-cef49b4eea86"
      },
      "execution_count": 23,
      "outputs": [
        {
          "output_type": "error",
          "ename": "SyntaxError",
          "evalue": "ignored",
          "traceback": [
            "\u001b[0;36m  File \u001b[0;32m\"<ipython-input-23-dc80cfa1c21f>\"\u001b[0;36m, line \u001b[0;32m1\u001b[0m\n\u001b[0;31m    print(\"\\\")\u001b[0m\n\u001b[0m          ^\u001b[0m\n\u001b[0;31mSyntaxError\u001b[0m\u001b[0;31m:\u001b[0m unterminated string literal (detected at line 1)\n"
          ]
        }
      ]
    },
    {
      "cell_type": "code",
      "source": [
        "print(\"\\\\\")\n",
        "\n",
        "문자열 안에 백슬래시를 두배로 늘리면 문제 없음"
      ],
      "metadata": {
        "colab": {
          "base_uri": "https://localhost:8080/"
        },
        "id": "A0-0pKvxy6bd",
        "outputId": "c6c357c6-5b4a-4f89-ab0a-89f3f5f6722b"
      },
      "execution_count": 21,
      "outputs": [
        {
          "output_type": "stream",
          "name": "stdout",
          "text": [
            "\\\n"
          ]
        }
      ]
    },
    {
      "cell_type": "markdown",
      "source": [
        "print () 함수 - 여러 인수 사용\n",
        "\n",
        "지금까지는 print()를 하나의 인수를 사용하여 함수 동작을 테스트\n",
        "\n",
        " 했으며 지금부터는 둘 이상의 인수를 print() 함수에 적용\n",
        "\n",
        "  ⛹ 코드실행 ⛹\n",
        "\n",
        "  - 하나 print()의 함수 호출이 있지만 세 개의 인수가 포함되어 있으며 모두 문자열임(인수는 쉼표로 구분)\n",
        "\n",
        "- 인수를 구분하는 쉼표는 문자열 내부의 쉼표와 완전히 다른\n",
        "  역할을 함.\n",
        "  \n",
        "  ＊인수를 구분하는 쉼표는 Python 구문의 일부이고 문자열\n",
        "  \n",
        "  　내부 쉼표는 콘솔에 표시\n"
      ],
      "metadata": {
        "id": "UxuHxyMd03h8"
      }
    },
    {
      "cell_type": "code",
      "source": [
        "print(\"The itsy bitsy spider\" , \"climbed up\" , \"the waterspout.\")\n",
        "\n",
        "- print()둘 이상의 인수로 호출된 함수는 해당 인수를 모두 한 줄에 출력\n",
        "- 함수 print()는 자체적으로 출력된 인수 사이에 공백을 넣습니다.\n",
        "  * 기존 각각의 인수인 문자열에는 공백이 없음(큰따옴표 사이에 공간이 없다는 의미)\n",
        "  * 그러나 콘솔로 출력된 후에는 각 인수(문자열) 사이에 공백(띄어쓰기)이 생김"
      ],
      "metadata": {
        "colab": {
          "base_uri": "https://localhost:8080/"
        },
        "id": "i-GWcjgb1Oxq",
        "outputId": "cd93d09f-a7e1-4ee3-e63f-2ba306926d45"
      },
      "execution_count": 24,
      "outputs": [
        {
          "output_type": "stream",
          "name": "stdout",
          "text": [
            "The itsy bitsy spider climbed up the waterspout.\n"
          ]
        }
      ]
    },
    {
      "cell_type": "markdown",
      "source": [
        "print () 함수 - 인수를 전달하는 위치 방식\n",
        "\n",
        "print() 를 변경하는 방법\n",
        "- 함수에 인수를 전달하는 방식은 Python에서 가장 일반적이며 위치 방식으로 정의함\n",
        "\n",
        "　　＊ 이는 인수의 의미가 위치에 따라 결정된다는 사실에서 유래\n",
        "\n",
        "  ⛹ 코드실행 ⛹"
      ],
      "metadata": {
        "id": "xVfB3AXv2MA2"
      }
    },
    {
      "cell_type": "code",
      "source": [
        "print(\"My name is\", \"Python.\")\n",
        "print(\"Monty Python.\")\n",
        "\n",
        "두 번째 인수는 다음과 같습니다. 반대 방향이 아닌 첫 번째 이후에 출력됨."
      ],
      "metadata": {
        "colab": {
          "base_uri": "https://localhost:8080/"
        },
        "id": "haNYz9oW2kmk",
        "outputId": "00db469e-a218-42cb-a3f0-c991a51c38c5"
      },
      "execution_count": 25,
      "outputs": [
        {
          "output_type": "stream",
          "name": "stdout",
          "text": [
            "My name is Python.\n",
            "Monty Python.\n"
          ]
        }
      ]
    },
    {
      "cell_type": "markdown",
      "source": [
        "\n",
        "print () 함수 - 키워드 인수\n",
        "\n",
        "Python은 인수 전달을 위한 또 다른 메커니즘을 제공하는데,\n",
        "이는 함수의 동작을 약간 변경시 도움이됨 이를 키워드 인수라고 함\n",
        "\n",
        "- 키워드 인수는 세 가지 요소로 구성됨.\n",
        "  \n",
        "  → 인수를 식별하는 키워드 end ( 여기); 등호 ( ) = ;  해당 인수에 할당된 값 ;\n",
        "- 모든 키워드 인수는 마지막 위치 인수 뒤에 와야 함(중요).\n",
        "\n",
        "아래 예에서는 키워드 인수(end)를 사용하고 공백 하나를 포함하는 문자열로 설정\n",
        "\n",
        "  ⛹ 코드실행 ⛹"
      ],
      "metadata": {
        "id": "OILggDEm4q_i"
      }
    },
    {
      "cell_type": "code",
      "source": [
        "print(\"My name is\", \"Python.\", end=\" \")\n",
        "print(\"Monty Python.\")\n",
        "\n",
        " Monty Python.이 다음줄에 출력되는 것이 아니라 같은줄에 출력됨\n",
        " end키워드 인수는 print() 함수가 위치 인수 끝에 도달한 후 출력으로 보내는 문자를 결정"
      ],
      "metadata": {
        "colab": {
          "base_uri": "https://localhost:8080/"
        },
        "id": "EbHy4aSn5VQM",
        "outputId": "991a35bd-4767-4767-dfca-7d7863d0ee4b"
      },
      "execution_count": 26,
      "outputs": [
        {
          "output_type": "stream",
          "name": "stdout",
          "text": [
            "My name is Python. Monty Python.\n"
          ]
        }
      ]
    },
    {
      "cell_type": "code",
      "source": [
        "print(\"My name is \", end=\"\")\n",
        "print(\"Monty Python.\")\n",
        "\n",
        "end 주의 깊게 살펴보면 인수를 사용했지만 여기에 할당된 문자열은 비어 있음(문자 미포함).\n",
        "인수 end가 없음으로 설정되었으므로 print()위치 인수가 소진되면 함수도 아무것도 출력하지 않음"
      ],
      "metadata": {
        "colab": {
          "base_uri": "https://localhost:8080/"
        },
        "id": "J7XEpASk6JaJ",
        "outputId": "30db9ba8-1547-4f6e-acf8-97868e8c08dc"
      },
      "execution_count": 29,
      "outputs": [
        {
          "output_type": "stream",
          "name": "stdout",
          "text": [
            "My name is Monty Python.\n"
          ]
        }
      ]
    },
    {
      "cell_type": "code",
      "source": [
        "print(\"My\", \"name\", \"is\", \"Monty\", \"Python.\", sep=\"-\")\n",
        "\n",
        "함수가 출력된 인수를 공백으로 구분하기에 동작도 변경될 수 있음\n",
        "이를 수행할 수 있는 키워드 인수는 이름이 지정됨(예sep : Separator/인수와 인수 사이에 들어갈 어떠한 문자를 의미)."
      ],
      "metadata": {
        "colab": {
          "base_uri": "https://localhost:8080/"
        },
        "id": "3RgU7pgr6yPd",
        "outputId": "3c13b28e-a154-4cb0-b251-34223e035ec3"
      },
      "execution_count": 30,
      "outputs": [
        {
          "output_type": "stream",
          "name": "stdout",
          "text": [
            "My-name-is-Monty-Python.\n"
          ]
        }
      ]
    },
    {
      "cell_type": "code",
      "source": [
        "print(\"My\", \"name\", \"is\", sep=\"_\", end=\"*\")\n",
        "print(\"Monty\", \"Python.\", sep=\"*\", end=\"*\\n\")\n",
        "\n",
        "두 키워드 인수를 하나의 호출로 혼합 하는 경우"
      ],
      "metadata": {
        "colab": {
          "base_uri": "https://localhost:8080/"
        },
        "id": "drbBLLtM7aCA",
        "outputId": "70bfb987-3f4f-415b-c6cc-aa34c108eb49"
      },
      "execution_count": 31,
      "outputs": [
        {
          "output_type": "stream",
          "name": "stdout",
          "text": [
            "My_name_is*Monty*Python.*\n"
          ]
        }
      ]
    },
    {
      "cell_type": "markdown",
      "source": [
        "# 리터럴 - 데이터 자체\n",
        "리터럴 : 리터럴 자체에 의해 값이 결정되는 데이터\n",
        "(예. 123과 c : 123은 123으로 나타나고 c는 적분상수 및 빛의 속도 등으로 나타낼 수 있음)\n",
        "\n",
        "→ 123은 문자 그대로이고 c는 그렇지 않음\n",
        "\n",
        "리터럴을 사용하여 데이터를 인코딩하고 이를 코드에 넣습니다.\n",
        "\n",
        "  ⛹ 코드실행 ⛹"
      ],
      "metadata": {
        "id": "gjy2O_x58im9"
      }
    },
    {
      "cell_type": "code",
      "source": [
        "print(\"2\")\n",
        "print(2)\n",
        "\n",
        "이 예를 통해 두 가지 유형의 리터럴을 접하게 됨.이미 알고 있는 string(문자열을 다루는), 그리고 정수 이는 완전히 새로운 것.\n",
        "내부적으로 컴퓨터 메모리에서 이 두 값은 완전히 다른 방식으로 저장됨."
      ],
      "metadata": {
        "colab": {
          "base_uri": "https://localhost:8080/"
        },
        "id": "KRytIY8gDjDo",
        "outputId": "9bb48254-ed0c-43d5-aa6f-4c488e6b557f"
      },
      "execution_count": 32,
      "outputs": [
        {
          "output_type": "stream",
          "name": "stdout",
          "text": [
            "2\n",
            "2\n"
          ]
        }
      ]
    },
    {
      "cell_type": "markdown",
      "source": [
        "정수\n",
        "\n",
        "현대 컴퓨터가 처리하는 숫자는 두 가지 유형이 있음\n",
        "- 정수 , 즉 소수 부분이 없는 정수;\n",
        "- 소수 부분을 포함하거나 포함할 수 있는 부동 소수점 숫자(또는 단순히 floats)\n",
        "\n",
        "그 종류, 범위, 용도를 결정하는 숫자값의 특성을 유형이라고 함\n",
        "\n",
        "리터럴을 인코딩하여 Python 코드 내에 배치하는 경우\n",
        "\n",
        "리터럴의 형식에 따라 Python이 이를 메모리에 저장하는 데 사용할 표현(유형)이 결정됨.\n",
        "\n",
        " - Python은 숫자 안에 숫자가 아닌 문자를 삽입하면 안됨.\n",
        "\n",
        "   숫자 리터럴에 밑줄을 사용시에는 가능.\n",
        "   \n",
        "   ＊ 11,111,111(X), 11.111.111.(X), 11 111 111(X)\n",
        "\n",
        "\n",
        "  - 이 번호를 다음과 같이 쓸 수 있다\n",
        "    \n",
        "     → 11111111, 또는 다음과 같이: 11_111_111\n",
        "  \n",
        "  - 음수를 코딩 시 : 평소와 같이 - 마이너스를 추가\n",
        "    \n",
        "     → -11111111, 또는 -11_111_111\n",
        "  - 양수 앞에 더하기 기호를 붙일 필요는 없지만 원하는 경우  \n",
        "  \n",
        "     → +11111111및 11111111.\n",
        "        \n",
        "Python 3.6에서는 숫자 리터럴에 밑줄을 도입하여 숫자\n",
        "사이와 기본 지정자 뒤에 단일 밑줄을 배치하여 가독성을 향상시켰으며 이 기능은 이전 버전의 Python에서는 사용불가"
      ],
      "metadata": {
        "id": "2qygqCS1KQ-x"
      }
    },
    {
      "cell_type": "markdown",
      "source": [
        "정수: 8진수 및 16진수\n",
        "\n",
        "Python에는 수학 세계에 알려지지 않은 두 가지 추가 규칙이 있습니다.\n",
        "- 첫 번째 방법 8진수 사용\n",
        "   \n",
        "   ＊ 숫자 앞에 0O또는 0o접두사(0-o)가 오면 8진수 값으로 처리\n",
        "- 두 번째 방법 16 진수를 사용\n",
        "  \n",
        "  ＊숫자 앞에는 접두사 0x또는 0X(zero-x)가 오면 16진수 값으로 처리\n",
        "\n",
        "    ⛹ 코드실행 ⛹\n"
      ],
      "metadata": {
        "id": "tuAXF8_WOX2j"
      }
    },
    {
      "cell_type": "code",
      "source": [
        "print(0o123)\n",
        "print(0x123)\n",
        "\n",
        "이 print()함수는 자동으로 변환을 수행함."
      ],
      "metadata": {
        "colab": {
          "base_uri": "https://localhost:8080/"
        },
        "id": "qmwiBJ1URWvx",
        "outputId": "2ac7a9da-da8c-4334-9af1-4064ae641f4f"
      },
      "execution_count": 33,
      "outputs": [
        {
          "output_type": "stream",
          "name": "stdout",
          "text": [
            "83\n",
            "291\n"
          ]
        }
      ]
    },
    {
      "cell_type": "markdown",
      "source": [
        "실수(Floats)\n",
        "\n",
        "소수점 이하 소수 부분이 있는(또는 가질 수 있는) 숫자의 경우\n",
        "\n",
        "\n",
        "컴퓨터가 부동 소수점 숫자로 간주함\n",
        "\n",
        "- 2.5 값만 사용하고 싶다면 쉼표가 아닌 점으로 써야함.\n",
        "\n",
        "- 소수점 앞이나 뒤의 유일한 숫자인 경우 0 생략가능\n",
        "  \n",
        "  ＊ 0.4 = .4 ,  4.0 = 4.\n",
        "\n",
        "정수대 부동 소수점\n",
        "\n",
        "- 4(정수)\n",
        "\n",
        "- 4.0(부동 소수점)\n",
        "\n",
        "　　＊ 파이썬은 위 두 숫자들을 완전히 다른 방식으로 봅니다.\n",
        "- 예) 300000000은 3x10의8제곱으로 표현되며 파이썬에서는 　3E8로도 표현가능함\n",
        "\n",
        "　　＊ 문자E는 10의 거듭제곱이라는 뜻\n",
        "\n",
        "\n",
        "코딩 플로트\n",
        "\n",
        "매우 작은 숫자(0에 가까운 절대값이라는 의미에서)기록 시 사용\n",
        "- 6.62607 x 10 -34이라는 숫자를 프로그램에서 사용 시 6.62607E-34 라고 작성해야함."
      ],
      "metadata": {
        "id": "-FIKDeKmSI5a"
      }
    },
    {
      "cell_type": "code",
      "source": [
        "print(0.0000000000000000000001)\n",
        "\n",
        "0.0000000000000000000001 ← 이 부동소수점 리터럴을 사용하기로 결정 시 콘솔값은 1e-22"
      ],
      "metadata": {
        "colab": {
          "base_uri": "https://localhost:8080/"
        },
        "id": "on07mCPrVNMu",
        "outputId": "a815698b-e76a-4e37-e471-f68f1d562445"
      },
      "execution_count": 34,
      "outputs": [
        {
          "output_type": "stream",
          "name": "stdout",
          "text": [
            "1e-22\n"
          ]
        }
      ]
    },
    {
      "cell_type": "markdown",
      "source": [
        "문자열\n",
        "\n",
        "텍스트를 처리하는 문자열에는 따옴표가 필요함.\n",
        "이미 따옴표로 구분된 문자열 안에 따옴표를 인코딩 할 때\n",
        "\n",
        "예제 : I like \"Monty Python\"\n",
        "\n",
        "   ⛹ 코드실행 ⛹\n",
        "\n"
      ],
      "metadata": {
        "id": "HFdLkNfVVtiV"
      }
    },
    {
      "cell_type": "code",
      "source": [
        "print(\"I like \\\"Monty Python\\\"\")\n",
        "\n",
        "첫 번째 방법 : 이스케이프 문자 개념으로 한 백슬래시(\\)\n",
        "백슬래시 다음에 오는 따옴표는 의미를 변경해 주고 이는 구분 기호가 아니라 단지 따옴표일 뿐으로 해석하면 됨"
      ],
      "metadata": {
        "colab": {
          "base_uri": "https://localhost:8080/"
        },
        "id": "fi93GUaSV-n6",
        "outputId": "e7108684-3fd9-4bc2-cecd-af0673aeaa11"
      },
      "execution_count": 35,
      "outputs": [
        {
          "output_type": "stream",
          "name": "stdout",
          "text": [
            "I like \"Monty Python\"\n"
          ]
        }
      ]
    },
    {
      "cell_type": "code",
      "source": [
        "print('I like \"Monty Python\"')\n",
        "\n",
        "두 번째 방법 : 따옴표 대신 아포스트로피를 사용(일관성을 유지해야 함, 따옴표로 문자열을 열면 따옴표로 닫아야 함)"
      ],
      "metadata": {
        "colab": {
          "base_uri": "https://localhost:8080/"
        },
        "id": "O5yNtlMNWwaR",
        "outputId": "feac1365-b4f9-46fb-de4c-46da3888abff"
      },
      "execution_count": 36,
      "outputs": [
        {
          "output_type": "stream",
          "name": "stdout",
          "text": [
            "I like \"Monty Python\"\n"
          ]
        }
      ]
    },
    {
      "cell_type": "code",
      "source": [],
      "metadata": {
        "id": "Beiex1SUeM7T"
      },
      "execution_count": null,
      "outputs": []
    },
    {
      "cell_type": "markdown",
      "source": [
        "부울 값\n",
        "\n",
        "Python에 한 숫자가 다른 숫자보다 큰지 물어볼 때마다 그 질문으로 인해 특정 데이터인 부울 값이 생성됨.\n",
        "\n",
        "＊ 이와같이 표시됨 : True / False / 1 / 0\n",
        "\n",
        "프로그래머는 프로그램을 작성하고, 프로그램은 질문을 합니다. Python은 프로그램을 실행하고 답변을 제공함\n",
        "\n",
        "- 그래 이건 사실이야.\n",
        "- 아니요, 이것은 거짓입니다."
      ],
      "metadata": {
        "id": "vbOrwmSxYVVv"
      }
    },
    {
      "cell_type": "code",
      "source": [
        "print(True > False)\n",
        "print(True < False)"
      ],
      "metadata": {
        "colab": {
          "base_uri": "https://localhost:8080/"
        },
        "id": "cepwBh6CZS5Q",
        "outputId": "beddc39b-624a-42d5-ca8b-fc51bc297ad3"
      },
      "execution_count": 37,
      "outputs": [
        {
          "output_type": "stream",
          "name": "stdout",
          "text": [
            "True\n",
            "False\n"
          ]
        }
      ]
    },
    {
      "cell_type": "markdown",
      "source": [
        "# 연산자 - 데이터 조작 도구\n",
        "\n",
        "지금부터는 연산자와 표현의 영역임.\n",
        "\n",
        "＊연산자 : 값에 대해 연산을 수행할 수 있는 프로그래밍 언어의 상징\n",
        "\n",
        " ＊가장 널리 알려진 산술 연산과 관련된 연산자 : +, -, *, /, //, %, **\n",
        "\n",
        " 데이터와 연산자가 함께 연결되면 표현식이 형성되며\n",
        "\n",
        " 가장 간단한 표현은 리터럴 그 자체임."
      ],
      "metadata": {
        "id": "-45dP41rcFRl"
      }
    },
    {
      "cell_type": "markdown",
      "source": [
        " 산술 연산자: 지수화\n",
        "\n",
        "( **이중 별표) 기호는 지수 (제곱) 연산자, 왼쪽 인수는 밑수 , 오른쪽 인수 는 지수입니다.\n",
        "\n",
        "   ⛹ 코드실행 ⛹"
      ],
      "metadata": {
        "id": "q6KzTrdDdvqn"
      }
    },
    {
      "cell_type": "code",
      "source": [
        "print(2 ** 3)\n",
        "print(2 ** 3.)\n",
        "print(2. ** 3)\n",
        "print(2. ** 3.)\n",
        "\n",
        "\n",
        "이 결과를 바탕으로 다음 규칙을 공식화하는 것이 가능\n",
        "- 두 인수가 모두 정수 이면 **결과도 정수입니다.\n",
        "- 하나 이상의 인수가 부동 소수점 이면 **결과도 부동 소수점입니다."
      ],
      "metadata": {
        "colab": {
          "base_uri": "https://localhost:8080/"
        },
        "id": "gv4x1dHod5ca",
        "outputId": "d45f6793-df4c-49e2-812d-94452a6afa84"
      },
      "execution_count": 38,
      "outputs": [
        {
          "output_type": "stream",
          "name": "stdout",
          "text": [
            "8\n",
            "8.0\n",
            "8.0\n",
            "8.0\n"
          ]
        }
      ]
    },
    {
      "cell_type": "markdown",
      "source": [
        "산술 연산자 : 곱셈\n",
        "\n",
        "( 별표 *) 기호는 곱셈 연산자입니다.\n",
        "\n",
        "   ⛹ 코드실행 ⛹"
      ],
      "metadata": {
        "id": "gJPJHk8meQsq"
      }
    },
    {
      "cell_type": "code",
      "source": [
        "print(2 * 3)\n",
        "print(2 * 3.)\n",
        "print(2. * 3)\n",
        "print(2. * 3.)"
      ],
      "metadata": {
        "colab": {
          "base_uri": "https://localhost:8080/"
        },
        "id": "_KxQWqy9emd8",
        "outputId": "ea3c1b81-0a20-456b-9539-880bb137afcc"
      },
      "execution_count": 39,
      "outputs": [
        {
          "output_type": "stream",
          "name": "stdout",
          "text": [
            "6\n",
            "6.0\n",
            "6.0\n",
            "6.0\n"
          ]
        }
      ]
    },
    {
      "cell_type": "markdown",
      "source": [
        "\n",
        "산술 연산자 : 나눗셈\n",
        "\n",
        "/(슬래시) 기호는 나눗셈 연산자 입니다 .\n",
        "\n",
        "＊슬래시 앞의 값은 피제수, 슬래시 뒤의 값은 제수\n",
        "\n",
        "   ⛹ 코드실행 ⛹"
      ],
      "metadata": {
        "id": "PNu4ikrUepas"
      }
    },
    {
      "cell_type": "code",
      "source": [
        "print(6 / 3)\n",
        "print(6 / 3.)\n",
        "print(6. / 3)\n",
        "print(6. / 3.)\n",
        "\n",
        "나누기 연산자에 의해 생성된 결과는 항상 부동 소수점임"
      ],
      "metadata": {
        "colab": {
          "base_uri": "https://localhost:8080/"
        },
        "id": "viR1DwDmetJt",
        "outputId": "72cc3dc9-c9cb-4d9a-c7a9-da7c518168a3"
      },
      "execution_count": 40,
      "outputs": [
        {
          "output_type": "stream",
          "name": "stdout",
          "text": [
            "2.0\n",
            "2.0\n",
            "2.0\n",
            "2.0\n"
          ]
        }
      ]
    },
    {
      "cell_type": "markdown",
      "source": [
        "\n",
        "산술 연산자: 정수 나누기\n",
        "\n",
        "정수 나누기 연산자 기호 : ( 이중 //슬래시)\n",
        "\n",
        "두 가지 세부 사항에서 표준 연산자와 다름( / 슬래시)\n",
        "\n",
        "- 그 결과에는 소수 부분이 없습니다. 분수 부분이 없거나 항상\n",
        "\n",
        " 0과 같음. 이는 결과가 항상 반올림됨을 의미함.\n",
        "- 이는 정수 대 부동 소수점 규칙을 따른다.\n",
        "\n",
        "   ⛹ 코드실행 ⛹\n"
      ],
      "metadata": {
        "id": "miaXFWkXfVeV"
      }
    },
    {
      "cell_type": "code",
      "source": [
        "print(6 // 3)\n",
        "print(6 // 3.)\n",
        "print(6. // 3)\n",
        "print(6. // 3.)\n",
        "\n",
        "보시 다시피 정수를 정수로 나누면 정수 결과가 나옴. 다른 모든 경우에는 실수가 생성됨"
      ],
      "metadata": {
        "colab": {
          "base_uri": "https://localhost:8080/"
        },
        "id": "1d0bhxG1gBWW",
        "outputId": "a20368cf-daa6-4fd4-a9dd-bef826bc2f0c"
      },
      "execution_count": 41,
      "outputs": [
        {
          "output_type": "stream",
          "name": "stdout",
          "text": [
            "2\n",
            "2.0\n",
            "2.0\n",
            "2.0\n"
          ]
        }
      ]
    },
    {
      "cell_type": "code",
      "source": [
        "print(6 // 4)\n",
        "print(6. // 4)\n",
        "\n",
        "결과 하나는 정수이고 하나는 부동소수점임.\n",
        "\n",
        "정수 나누기의 결과는 항상 실제(반올림되지 않은)결과보다 작은 가장 가까운 정수 값으로 반올림된다.\n",
        "(중요 : 반올림은 항상 더 작은 정수로 진행됨)"
      ],
      "metadata": {
        "colab": {
          "base_uri": "https://localhost:8080/"
        },
        "id": "AKNl093ygO9r",
        "outputId": "5424cbb3-4acd-4930-9974-ac3d4249488f"
      },
      "execution_count": 42,
      "outputs": [
        {
          "output_type": "stream",
          "name": "stdout",
          "text": [
            "1\n",
            "1.0\n"
          ]
        }
      ]
    },
    {
      "cell_type": "code",
      "source": [
        "print(-6 // 4)\n",
        "print(6. // -4)\n",
        "\n",
        "-1.5두 경우 모두 실제(반올림되지 않은) 결과가 나타나며, 결과는 반올림 대상임\n",
        "반올림은 더 작은 정수 값 쪽으로 진행되기에 더 작은 정수 값은 -2"
      ],
      "metadata": {
        "colab": {
          "base_uri": "https://localhost:8080/"
        },
        "id": "_GsgPpW8gu-z",
        "outputId": "3835599d-ffb1-4491-fa95-f89726a94f9a"
      },
      "execution_count": 43,
      "outputs": [
        {
          "output_type": "stream",
          "name": "stdout",
          "text": [
            "-2\n",
            "-2.0\n"
          ]
        }
      ]
    },
    {
      "cell_type": "markdown",
      "source": [
        "연산자: 나머지(모듈러)\n",
        "\n",
        "연산자의 결과는 정수 나누기 후에 남은 나머지\n",
        "\n",
        "＊ Python의 그래픽 표현은 %(퍼센트) 기호\n",
        "\n",
        "즉, 정수 몫을 생성하기 위해 한 값을 다른 값으로 나눈 후 남은 값\n",
        "\n",
        "   ⛹ 코드실행 ⛹"
      ],
      "metadata": {
        "id": "yvr0k2F_hWae"
      }
    },
    {
      "cell_type": "code",
      "source": [
        "print(14 % 4)\n",
        "\n",
        "14 // 4, 3→ 이것은 정수 몫임. 3 * 4몫과 제수 곱셈12 의 결과로 →를 제공함. 14 - 12 준다(뺀다) 2 → 이것이 나머지 이다 ."
      ],
      "metadata": {
        "colab": {
          "base_uri": "https://localhost:8080/"
        },
        "id": "0fJUaqxchiza",
        "outputId": "2dc44688-9e8c-48fc-dd03-8d4411635293"
      },
      "execution_count": 44,
      "outputs": [
        {
          "output_type": "stream",
          "name": "stdout",
          "text": [
            "2\n"
          ]
        }
      ]
    },
    {
      "cell_type": "code",
      "source": [
        "print(12 % 4.5)\n",
        "\n",
        "12 // 4.5제공 2.0; 이후 2.0 * 4.5 곱을해서 9.0이 나옴 12 - 9.0를 뺀 나머지는 3.0"
      ],
      "metadata": {
        "colab": {
          "base_uri": "https://localhost:8080/"
        },
        "id": "83h5DJyEiGIO",
        "outputId": "09c76dfd-9601-4274-dc16-92dea9cb49ba"
      },
      "execution_count": 45,
      "outputs": [
        {
          "output_type": "stream",
          "name": "stdout",
          "text": [
            "3.0\n"
          ]
        }
      ]
    },
    {
      "cell_type": "markdown",
      "source": [
        "연산자: 추가\n",
        "\n",
        "더하기 연산자는(더하기) 기호로 ,+ 이는 수학적 표준과 완전 일치함."
      ],
      "metadata": {
        "id": "g8y7Pom2iyUV"
      }
    },
    {
      "cell_type": "code",
      "source": [
        "print(-4 + 4)\n",
        "print(-4. + 8)"
      ],
      "metadata": {
        "colab": {
          "base_uri": "https://localhost:8080/"
        },
        "id": "cpUk9h9hjAQI",
        "outputId": "1c7e2521-0bdb-42a6-85a9-16956c404237"
      },
      "execution_count": 46,
      "outputs": [
        {
          "output_type": "stream",
          "name": "stdout",
          "text": [
            "0\n",
            "4.0\n"
          ]
        }
      ]
    },
    {
      "cell_type": "markdown",
      "source": [
        "빼기 연산자, 단항 및 이항 연산자\n",
        "\n",
        "빼기 연산자는 분명히 (빼기) 기호이나, 이 연산자에는 다른 의미도 있다는 점에 유의해야 함.\n",
        "\n",
        "즉, 숫자의 기호를 변경할 수 있음."
      ],
      "metadata": {
        "id": "yuSX5WdJjC_Q"
      }
    },
    {
      "cell_type": "code",
      "source": [
        "print(-4 - 4)\n",
        "print(4. - 8)\n",
        "print(-1.1)\n",
        "\n",
        "뺄셈 연산자는 덧셈, 곱셈, 나눗셈 연산자와 마찬가지로 이항 연산자 중 하나로 간주되나\n",
        "다른(단항) 방식으로 사용될 수 있음.(가장 마지막 줄인 print -1.1))"
      ],
      "metadata": {
        "colab": {
          "base_uri": "https://localhost:8080/"
        },
        "id": "UlB5ckcnjVOy",
        "outputId": "fc653acf-cbaf-40ac-d035-d717a9122857"
      },
      "execution_count": 47,
      "outputs": [
        {
          "output_type": "stream",
          "name": "stdout",
          "text": [
            "-8\n",
            "-4.0\n",
            "-1.1\n"
          ]
        }
      ]
    },
    {
      "cell_type": "markdown",
      "source": [
        "운영자 및 우선순위\n",
        "- 일부 운영자가 다른 운영자보다 먼저 행동하게 만드는 현상을 우선 순위 계층 이라고 함\n",
        "  \n",
        "  ＊ 2 + 3 * 5 에서 *가 +보다 우선순위가 높다는 것\n",
        "\n",
        "연산자 및 해당 바인딩\n",
        "\n",
        "- 연산자 바인딩은 우선 순위가 동일한 일부 연산자가 하나의\n",
        "\n",
        "   표현식에 나란히 배치되어 수행되는 계산 순서를 결정\n",
        "  \n",
        "  ＊ print(9 % 6 % 2)의 경우\n",
        "  \n",
        "  　 왼쪽에서 오른쪽으로: 먼저 9 % 6를 주고 3, 그 3 % 2다음 1;\n",
        "  　(오른쪽에서 왼쪽으로 수행 시 오류를 발생)\n",
        "\n",
        "연산자 및 해당 바인딩 : 지수화\n",
        "\n",
        "실험을 반복하되 이제는 지수화를 사용합니다.\n",
        "\n",
        "- 아래 코드의 예상가능한 결과 값 두 가지\n",
        "\n",
        " ＊ 2 ** 2 → 4; 4 ** 3 → 64\n",
        "\n",
        " ＊ 2 ** 3 → 8; 2 ** 8 → 256"
      ],
      "metadata": {
        "id": "dZMXr4JCkc3R"
      }
    },
    {
      "cell_type": "code",
      "source": [
        "print(2 ** 2 ** 3)\n",
        "\n",
        "결과는 지수 연산자가 오른쪽 바인딩을 사용한다는 것을 보여줌"
      ],
      "metadata": {
        "colab": {
          "base_uri": "https://localhost:8080/"
        },
        "id": "fOFHgwrGlayV",
        "outputId": "ba9a6981-2a96-46c4-a576-ca0925d7b170"
      },
      "execution_count": 48,
      "outputs": [
        {
          "output_type": "stream",
          "name": "stdout",
          "text": [
            "256\n"
          ]
        }
      ]
    },
    {
      "cell_type": "markdown",
      "source": [
        "우선순위 목록\n",
        "\n",
        "우선사항　　　운영자\n",
        " 1\t　　　　　**\n",
        " 2\t　　　　　+, -　(거듭제곱 연산자 오른쪽 옆에 있는 단항\n",
        "  　　　　　　　　　연산자가 더 강하게 바인딩됨.)\n",
        " 3\t　　　　　*, /, //, %\n",
        " 4\t　　　　　+, -\n",
        "\n",
        " 참고: 우선순위가 가장 높은 것(1)부터 가장 낮은 것(4)까지 순서 대로 연산자를 나열함.\n",
        "\n"
      ],
      "metadata": {
        "id": "Z5tEawJpmSt6"
      }
    },
    {
      "cell_type": "code",
      "source": [
        "print(2 * 3 % 5)\n",
        "\n",
        "두 연산자( *및 %) 모두 우선순위가 동일하므로 바인딩 방향을 알아야만 결과를 추측 가능"
      ],
      "metadata": {
        "colab": {
          "base_uri": "https://localhost:8080/"
        },
        "id": "hTh3IKotnl09",
        "outputId": "0040fa92-7759-4d10-de1f-3d9d60b87e2a"
      },
      "execution_count": 49,
      "outputs": [
        {
          "output_type": "stream",
          "name": "stdout",
          "text": [
            "1\n"
          ]
        }
      ]
    },
    {
      "cell_type": "markdown",
      "source": [
        "연산자 및 괄호\n",
        "\n",
        "- 산술 규칙에 따라 괄호 안의 하위 표현식이 항상 먼저 계산되며\n",
        "\n",
        "- 괄호는 필요한 만큼 사용가능, 연산 순서를 변경하지 않더라도\n",
        "\n",
        "    표현식의 가독성을 높이기 위해 자주 사용.\n"
      ],
      "metadata": {
        "id": "beLlTE-PnsGm"
      }
    },
    {
      "cell_type": "code",
      "source": [
        "print((5 * ((25 % 13) + 100) / (2 * 13)) // 2)\n"
      ],
      "metadata": {
        "colab": {
          "base_uri": "https://localhost:8080/"
        },
        "id": "8p__ijYzn6Jx",
        "outputId": "237b2ee2-da4b-4aba-d590-30fa6c5474f9"
      },
      "execution_count": 50,
      "outputs": [
        {
          "output_type": "stream",
          "name": "stdout",
          "text": [
            "10.0\n"
          ]
        }
      ]
    },
    {
      "cell_type": "markdown",
      "source": [
        "# 변수\n",
        "산술 연산 등 작업 을 여러 번 수행 후 중간 결과를 저장하고\n",
        "\n",
        "이를 다시 사용하여 후속 결과를 생성할 때 이 목적을 위해 특별한\n",
        "\n",
        " \"상자\"(컨테이너)를 제공하며 이러한 상자를 변수라고 지칭함\n",
        "\n",
        "모든 Python 변수에 포함되어 있는 것\n",
        "- 이름\n",
        "- 값(컨테이너의 내용)\n",
        "\n",
        "변수는 프로그램에 자동으로 나타나지 않으며 개발자는 프로그램에 사용할 변수 수와 변수를 결정해야 함(이름도 지정필요).\n",
        "\n",
        "변수에 이름을 지정하기 위해선 몇 가지 엄격한 규칙을 따라야 함\n",
        "\n",
        "- 변수명은 대문자 또는 소문자, 숫자, 문자 _(밑줄)로 구성\n",
        "- 변수 이름은 문자로 시작\n",
        "- 밑줄 문자는 문자\n",
        "- 대문자와 소문자는 서로 다르게 처리됨\n",
        "  \n",
        "  ＊ 실제 세계와는 약간 다릅니다. Alice 와 ALICE 는 동일한 이름이지만 Python에서는 두 개의 다른 변수 이름이므로 결과적으로 두 개의 다른 변수임).\n",
        "- 변수 이름은 Python의 예약어가 아니어야 함"
      ],
      "metadata": {
        "id": "HGfn1D7BoVup"
      }
    },
    {
      "cell_type": "markdown",
      "source": [
        "<올바른 변수 이름과 잘못된 변수 이름>\n",
        "\n",
        "- 함수 이름에도 동일한 제한 사항이 적용\n",
        "\n",
        "- Python은 변수 이름의 길이에 제한을 두지 않음\n",
        "\n",
        "아래는 정확하지만 항상 편리한 변수 이름은 아님\n",
        "\n",
        "＊ MyVariable, i, t34, Exchange_Rate, counter, days_to_christmas, TheNameIsSoLongThatYouWillMakeMistakesWithIt, _.\n",
        "\n",
        "Python에서는 라틴 문자뿐만 아니라 다른 알파벳을 사용하는 언어에 특정한 문자도 사용가능\n",
        "\n",
        "＊ Adiós_Señora, sûr_la_mer, Einbahnstraße, переменная.\n",
        "\n",
        "<키워드>\n",
        "\n",
        "모든 Python 프로그램에서 매우 특별한 역할을 하는 단어 목록\n",
        "\n",
        "＊ ['False', 'None', 'True', 'and', 'as', 'assert', 'break', 'class', 'continue', 'def', 'del', 'elif', 'else', 'except', 'finally', 'for', 'from', 'global', 'if', 'import', 'in', 'is', 'lambda', 'nonlocal', 'not', 'or', 'pass', 'raise', 'return', 'try', 'while', 'with', 'yield']\n",
        "\n",
        "- 이를 키워드 또는 예약 키워드 라고 하며, 변수나 함수,\n",
        "\n",
        "   생성하려는 다른 명명된 엔터티에 대해 이름으로 사용하면\n",
        "   \n",
        "   안 되기 때문에 예약되어 있음.\n",
        "   \n",
        "   ＊ 예약어의 의미는 미리 정의되어 있어 변경불가\n",
        "   \n",
        "   ＊  Python은 대소문자를 구분하므로 대소문자를 변경하여\n",
        "   \n",
        "   이러한 단어를 수정가능 → 더 이상 예약되지 않은 새 단어 생성\n",
        "\n",
        "- 지정할 수 없는 금지된 변수 이름을 대신 할 수 있음\n",
        "  \n",
        "  ＊ import → Import(I를 대문자로 변경)"
      ],
      "metadata": {
        "id": "HkXWhn6RqdfW"
      }
    },
    {
      "cell_type": "markdown",
      "source": [
        "변수 생성(변수의 값은 변수에 입력한 값)\n",
        "\n",
        "변수가 생성되는 방법 과 그 안에 값을 넣는 방법\n",
        "\n",
        "- 변수는 값을 할당한 결과로 존재하기 때문에 다른 언어와 달리 특별한 방법으로 선언 불필요\n",
        "\n",
        "- 존재하지 않는 변수에 값을 할당하면 해당 변수가 자동으로\n",
        "\n",
        "    생성 되기에 다른 작업을 수행 불필요\n",
        "\n",
        "- 생성(또는 구문)은 매우 간단함. 원하는 변수의 이름을 사용한 다음 등호(=)와 변수에 입력하려는 값을 사용\n"
      ],
      "metadata": {
        "id": "5S8KOmZItDx9"
      }
    },
    {
      "cell_type": "code",
      "source": [
        "var = 1\n",
        "print(var)\n",
        "\n",
        "이는 두 가지 간단한 지침으로 구성\n",
        "- 첫 번째는 var이라는 변수를 생성하고 1와 같은 정수 값을 가진 리터럴을 할당.\n",
        "- 두 번째는 새로 생성된 변수의 값을 콘솔에 인쇄"
      ],
      "metadata": {
        "colab": {
          "base_uri": "https://localhost:8080/"
        },
        "id": "yuGc1A3ctiC2",
        "outputId": "7424fcbe-9085-4a26-a33c-fbbaa2601cd8"
      },
      "execution_count": 52,
      "outputs": [
        {
          "output_type": "stream",
          "name": "stdout",
          "text": [
            "1\n"
          ]
        }
      ]
    },
    {
      "cell_type": "markdown",
      "source": [
        "변수사용\n",
        "\n",
        "다음과 같이 목표를 달성하는 데 필요한 만큼 변수 선언을 사용가능"
      ],
      "metadata": {
        "id": "8ciqZEKeuTVK"
      }
    },
    {
      "cell_type": "code",
      "source": [
        "var = 1\n",
        "account_balance = 1000.0\n",
        "client_name = 'John Doe'\n",
        "print(var, account_balance, client_name)\n",
        "print(var)\n",
        "\n",
        "존재하지 않는 변수 (즉, 값이 할당되지 않은 변수)는 사용할 수 없"
      ],
      "metadata": {
        "colab": {
          "base_uri": "https://localhost:8080/"
        },
        "id": "LTVnC0XjuY0w",
        "outputId": "d20e8d8b-db9e-4e41-f787-82402339ba89"
      },
      "execution_count": 53,
      "outputs": [
        {
          "output_type": "stream",
          "name": "stdout",
          "text": [
            "1 1000.0 John Doe\n",
            "1\n"
          ]
        }
      ]
    },
    {
      "cell_type": "code",
      "source": [
        "var = 1\n",
        "print(Var)\n",
        "\n",
        "이 예에서는 오류가 발생.(참고: var및 Var은 다른 엔터티이며 Python에 관한 한 공통점이 없음)."
      ],
      "metadata": {
        "colab": {
          "base_uri": "https://localhost:8080/",
          "height": 203
        },
        "id": "ioYn2YhOundH",
        "outputId": "823c0d5b-129e-4dbc-c867-50906b695463"
      },
      "execution_count": 54,
      "outputs": [
        {
          "output_type": "error",
          "ename": "NameError",
          "evalue": "ignored",
          "traceback": [
            "\u001b[0;31m---------------------------------------------------------------------------\u001b[0m",
            "\u001b[0;31mNameError\u001b[0m                                 Traceback (most recent call last)",
            "\u001b[0;32m<ipython-input-54-dd8aae8de518>\u001b[0m in \u001b[0;36m<cell line: 2>\u001b[0;34m()\u001b[0m\n\u001b[1;32m      1\u001b[0m \u001b[0mvar\u001b[0m \u001b[0;34m=\u001b[0m \u001b[0;36m1\u001b[0m\u001b[0;34m\u001b[0m\u001b[0;34m\u001b[0m\u001b[0m\n\u001b[0;32m----> 2\u001b[0;31m \u001b[0mprint\u001b[0m\u001b[0;34m(\u001b[0m\u001b[0mVar\u001b[0m\u001b[0;34m)\u001b[0m\u001b[0;34m\u001b[0m\u001b[0;34m\u001b[0m\u001b[0m\n\u001b[0m",
            "\u001b[0;31mNameError\u001b[0m: name 'Var' is not defined"
          ]
        }
      ]
    },
    {
      "cell_type": "markdown",
      "source": [
        "이미 존재하는 변수에 새 값 할당\n",
        "\n",
        "이미 생성된 변수에 새 값을 어떻게 할당할까?\n",
        "\n",
        "같은 방법으로. 등호만 사용하면 됨\n",
        "\n",
        "＊ 등호는 실제로 할당 연산자 임"
      ],
      "metadata": {
        "id": "Uaj_Ty84u8lJ"
      }
    },
    {
      "cell_type": "code",
      "source": [
        "var = 1\n",
        "print(var)\n",
        "var = var + 1\n",
        "print(var)"
      ],
      "metadata": {
        "colab": {
          "base_uri": "https://localhost:8080/"
        },
        "id": "MnKCSTrdvFaF",
        "outputId": "5c42fe6d-0721-478b-ac5d-52f87e00f4f8"
      },
      "execution_count": 55,
      "outputs": [
        {
          "output_type": "stream",
          "name": "stdout",
          "text": [
            "1\n",
            "2\n"
          ]
        }
      ]
    },
    {
      "cell_type": "code",
      "source": [
        "var = 100\n",
        "var = 200 + 300\n",
        "print(var)\n",
        "\n",
        "500- 왜? 먼저 var변수가 생성되어 값 100이 할당됨\n",
        "그런 다음 동일한 변수에 새 값이 할당됨. 즉, 200을 300에 더한 결과인 500이 콘솔 값."
      ],
      "metadata": {
        "colab": {
          "base_uri": "https://localhost:8080/"
        },
        "id": "RVsQZfxlvV0Y",
        "outputId": "a58ef988-f141-480b-d348-1b34c8bf6f48"
      },
      "execution_count": 56,
      "outputs": [
        {
          "output_type": "stream",
          "name": "stdout",
          "text": [
            "500\n"
          ]
        }
      ]
    },
    {
      "cell_type": "markdown",
      "source": [
        "바로가기 연산자\n",
        "\n",
        "- 일련의 연속적인 2제곱 값을 계산해야 하는 경우\n",
        "\n",
        "다음과 같은 조각을 사용 → x = x * 2\n",
        "\n",
        "- 다음과 같은 표현을 사용할 수 있음 → sheep = sheep + 1\n",
        "\n",
        "\n",
        "- Python은 다음과 같이 코딩할 수 있는 이와 같은 작업을  \n",
        "  작성하는 단축된 방법을 제공\n",
        "→ x *= 2 / sheep += 1\n",
        "\n",
        "If op는 두 개의 인수를 갖는 연산자(매우 중요한 조건)이고 연산자는 다음과 같은 맥락에서 사용\n",
        "- variable = variable op expression\n",
        "\n",
        "   → 단순화 하여 표시 variable op= expression\n",
        "\n"
      ],
      "metadata": {
        "id": "GhaCOofyv7Ju"
      }
    },
    {
      "cell_type": "markdown",
      "source": [
        "# 코드에 주석 남기기: 이유, 방법, 시기\n",
        "\n",
        "주석 : 프로그램에 삽입되어 런타임 시 생략되는 주석\n",
        "\n",
        "＊ #Python에서 주석은 (해시) 기호로 시작하고 줄 끝까지 확장되는 텍스트 조각\n",
        "\n",
        "＊여러 줄에 걸쳐 주석을 달고 싶다면 모든 줄 앞에 해시를 넣어야 함"
      ],
      "metadata": {
        "id": "Mku7TYa_2VU1"
      }
    },
    {
      "cell_type": "code",
      "source": [
        "# This program evaluates the hypotenuse c.\n",
        "# a and b are the lengths of the legs.\n",
        "a = 3.0\n",
        "b = 4.0\n",
        "c = (a ** 2 + b ** 2) ** 0.5  # We use ** instead of square root.\n",
        "print(\"c =\", c)"
      ],
      "metadata": {
        "colab": {
          "base_uri": "https://localhost:8080/"
        },
        "id": "NaXEEKmM2u2s",
        "outputId": "a0371239-22f2-471e-c317-987d141d6c21"
      },
      "execution_count": 58,
      "outputs": [
        {
          "output_type": "stream",
          "name": "stdout",
          "text": [
            "c = 5.0\n"
          ]
        }
      ]
    },
    {
      "cell_type": "markdown",
      "source": [
        "# 입력 함수\n",
        "\n",
        "input()함수는 사용자가 입력한 데이터를 읽고\n",
        "\n",
        " 동일한 데이터를 실행 중인 프로그램에 반환할 수 있음\n",
        "\n",
        " ＊ 프로그램은 데이터를 조작해 코드를 대화형으로 만들 수 있다.\n",
        "\n",
        " 메모:\n",
        "\n",
        "- 프로그램은 사용자에게 콘솔에서 일부 데이터를 입력하라는 메시지를 표시함(대부분 키보드를 사용. 음성이나 이미지를 사용해 데이터를 입력가능).\n",
        "- 함수 input()는 인수 없이 호출됩니다(함수를 사용하는 가장 간단한 방법). 이 기능은 콘솔을 입력 모드로 전환함.\n",
        "\n",
        " 깜박이는 커서가 표시되고 몇 가지 키 입력을 입력할 수 있으며 Enter 키를 눌러 작업을 마무리합니다. 입력된 모든 데이터는 함수 결과를 통해 프로그램으로 전송 됩니다 .\n",
        "- 참고: 결과를 변수에 할당해야 합니다. 이는 매우 중요함. 이 단계를 놓치면 입력한 데이터가 손실됨.\n",
        "- 이후 함수를 사용해 print()몇개의 추가 설명과 함께 얻은 데이터를 출력함\n"
      ],
      "metadata": {
        "id": "Bkusa8vW274X"
      }
    },
    {
      "cell_type": "code",
      "source": [
        "print(\"Tell me anything...\")\n",
        "anything = input()\n",
        "print(\"Hmm...\", anything, \"... Really?\")"
      ],
      "metadata": {
        "colab": {
          "base_uri": "https://localhost:8080/"
        },
        "id": "Qcm0YOsB3Ucu",
        "outputId": "3ab84e05-faaa-4778-997c-1eafa73eaf15"
      },
      "execution_count": 59,
      "outputs": [
        {
          "output_type": "stream",
          "name": "stdout",
          "text": [
            "Tell me anything...\n",
            "really?\n",
            "Hmm... really? ... Really?\n"
          ]
        }
      ]
    },
    {
      "cell_type": "markdown",
      "source": [
        "인수가 있는 input () 함수\n",
        "\n",
        "이 호출 변형은 input()코드를 단순화하고 더 명확하게 만듬"
      ],
      "metadata": {
        "id": "UEt0EJsK4bhq"
      }
    },
    {
      "cell_type": "code",
      "source": [
        "anything = input(\"Tell me anything...\")\n",
        "print(\"Hmm...\", anything, \"...Really?\")\n",
        "\n",
        "함수 input()는 하나의 인수로 호출되며 이는 메시지를 포함하는 문자열임\n",
        "사용자에게 아무것도 입력할 수 있는 기회가 주어지기 전에 메시지가 콘솔에 표시되며 input()그러면 그 일을 할 것입니다."
      ],
      "metadata": {
        "colab": {
          "base_uri": "https://localhost:8080/"
        },
        "id": "LmqpfHN84js2",
        "outputId": "3a6ff7ab-746d-4082-b457-cec2c41aa06c"
      },
      "execution_count": 60,
      "outputs": [
        {
          "output_type": "stream",
          "name": "stdout",
          "text": [
            "Tell me anything...Tell me anything\n",
            "Hmm... Tell me anything ...Really?\n"
          ]
        }
      ]
    },
    {
      "cell_type": "markdown",
      "source": [
        "input() 함수 의 결과\n",
        "\n",
        "함수 의 결과 input()는 string 임."
      ],
      "metadata": {
        "id": "mp3QqbJ25Cnh"
      }
    },
    {
      "cell_type": "code",
      "source": [
        "anything = input(\"Enter a number: \")\n",
        "something = anything ** 2.0\n",
        "print(anything, \"to the power of 2 is\", something)\n",
        "\n",
        "즉, 이 데이터 를 산술 연산의 인수로 사용해서는 안 됨.(숫자로 사용하면 안됨)\n",
        "예를 들어 이 데이터를 사용하여 제곱하거나 다른 항목으로 나누거나 다른 항목으로 나눌 수 없습니다."
      ],
      "metadata": {
        "colab": {
          "base_uri": "https://localhost:8080/",
          "height": 240
        },
        "id": "ulp0vkc65MFS",
        "outputId": "703d316c-d0d9-4ed2-9b4d-cb9b093bf303"
      },
      "execution_count": 62,
      "outputs": [
        {
          "name": "stdout",
          "output_type": "stream",
          "text": [
            "Enter a number: 2.0\n"
          ]
        },
        {
          "output_type": "error",
          "ename": "TypeError",
          "evalue": "ignored",
          "traceback": [
            "\u001b[0;31m---------------------------------------------------------------------------\u001b[0m",
            "\u001b[0;31mTypeError\u001b[0m                                 Traceback (most recent call last)",
            "\u001b[0;32m<ipython-input-62-cf85aa8c229a>\u001b[0m in \u001b[0;36m<cell line: 2>\u001b[0;34m()\u001b[0m\n\u001b[1;32m      1\u001b[0m \u001b[0manything\u001b[0m \u001b[0;34m=\u001b[0m \u001b[0minput\u001b[0m\u001b[0;34m(\u001b[0m\u001b[0;34m\"Enter a number: \"\u001b[0m\u001b[0;34m)\u001b[0m\u001b[0;34m\u001b[0m\u001b[0;34m\u001b[0m\u001b[0m\n\u001b[0;32m----> 2\u001b[0;31m \u001b[0msomething\u001b[0m \u001b[0;34m=\u001b[0m \u001b[0manything\u001b[0m \u001b[0;34m**\u001b[0m \u001b[0;36m2.0\u001b[0m\u001b[0;34m\u001b[0m\u001b[0;34m\u001b[0m\u001b[0m\n\u001b[0m\u001b[1;32m      3\u001b[0m \u001b[0mprint\u001b[0m\u001b[0;34m(\u001b[0m\u001b[0manything\u001b[0m\u001b[0;34m,\u001b[0m \u001b[0;34m\"to the power of 2 is\"\u001b[0m\u001b[0;34m,\u001b[0m \u001b[0msomething\u001b[0m\u001b[0;34m)\u001b[0m\u001b[0;34m\u001b[0m\u001b[0;34m\u001b[0m\u001b[0m\n",
            "\u001b[0;31mTypeError\u001b[0m: unsupported operand type(s) for ** or pow(): 'str' and 'float'"
          ]
        }
      ]
    },
    {
      "cell_type": "markdown",
      "source": [
        "input () 함수 - 금지된 작업\n"
      ],
      "metadata": {
        "id": "mMYMcjuC5sQB"
      }
    },
    {
      "cell_type": "code",
      "source": [
        "Traceback (most recent call last):\n",
        "File \".main.py\", line 4, in <module>\n",
        "something = anything ** 2.0\n",
        "TypeError: unsupported operand type(s) for ** or pow(): 'str' and 'float'\n",
        "\n",
        "문장의 마지막 줄이 모든 것을 설명합니다.\n",
        "**와 함께 (문자열)에 연산자를 적용하려고 했습니다 .'str''float' 이는 금지되어 있음."
      ],
      "metadata": {
        "colab": {
          "base_uri": "https://localhost:8080/",
          "height": 147
        },
        "id": "LlJhbXQ35umw",
        "outputId": "993d41e4-0aec-4d40-d762-0a2558521cc3"
      },
      "execution_count": 63,
      "outputs": [
        {
          "output_type": "error",
          "ename": "SyntaxError",
          "evalue": "ignored",
          "traceback": [
            "\u001b[0;36m  File \u001b[0;32m\"<ipython-input-63-a2580388b513>\"\u001b[0;36m, line \u001b[0;32m1\u001b[0m\n\u001b[0;31m    Traceback (most recent call last):\u001b[0m\n\u001b[0m               ^\u001b[0m\n\u001b[0;31mSyntaxError\u001b[0m\u001b[0;31m:\u001b[0m invalid syntax. Perhaps you forgot a comma?\n"
          ]
        }
      ]
    },
    {
      "cell_type": "markdown",
      "source": [
        "타입 캐스팅\n",
        "\n",
        "Python은 데이터 유형을 지정하고\n",
        "이 문제를 해결하기 위한 두 가지 함수를 제공합니다.\n",
        "→ int(), float()\n",
        "\n",
        "- 함수 int() : 하나의 인수 (예: 문자열: int(string))를 취하고 이를 정수로 변환하려고 시도하며 실패하면 전체 프로그램도 실패함\n",
        "- 함수 float() : 하나의 인수(예: 문자열: float(string))를 취하고 이를 부동 소수점으로 변환하려고 시도함(나머지는 동일)."
      ],
      "metadata": {
        "id": "_t7HEWTx7NMo"
      }
    },
    {
      "cell_type": "code",
      "source": [
        "anything = float(input(\"Enter a number: \"))\n",
        "something = anything ** 2.0\n",
        "print(anything, \"to the power of 2 is\", something)\n",
        "\n",
        "유효한 숫자를 입력하는 것이 필요하며 크고 작은 값, 음수 및 양수 등 다양한 값을 확인 할 수 있다."
      ],
      "metadata": {
        "colab": {
          "base_uri": "https://localhost:8080/"
        },
        "id": "cT-4OL4N7qej",
        "outputId": "8dc26beb-b171-443e-961a-7c5c47c5b1b0"
      },
      "execution_count": 64,
      "outputs": [
        {
          "output_type": "stream",
          "name": "stdout",
          "text": [
            "Enter a number: 0\n",
            "0.0 to the power of 2 is 0.0\n"
          ]
        }
      ]
    },
    {
      "cell_type": "code",
      "source": [
        "anything = float(input(\"Enter a number: \"))\n",
        "something = anything ** 2.0\n",
        "print(anything, \"to the power of 2 is\", something)"
      ],
      "metadata": {
        "colab": {
          "base_uri": "https://localhost:8080/"
        },
        "id": "5fZvHpeO79Ht",
        "outputId": "b669a839-153b-4b31-de12-1ad5d0c3d702"
      },
      "execution_count": 65,
      "outputs": [
        {
          "output_type": "stream",
          "name": "stdout",
          "text": [
            "Enter a number: 10\n",
            "10.0 to the power of 2 is 100.0\n"
          ]
        }
      ]
    },
    {
      "cell_type": "code",
      "source": [
        "anything = float(input(\"Enter a number: \"))\n",
        "something = anything ** 2.0\n",
        "print(anything, \"to the power of 2 is\", something)"
      ],
      "metadata": {
        "colab": {
          "base_uri": "https://localhost:8080/"
        },
        "id": "j_CjTJNf8BIK",
        "outputId": "60875532-154d-4f82-9b26-772c661ca1c1"
      },
      "execution_count": 66,
      "outputs": [
        {
          "output_type": "stream",
          "name": "stdout",
          "text": [
            "Enter a number: -10\n",
            "-10.0 to the power of 2 is 100.0\n"
          ]
        }
      ]
    },
    {
      "cell_type": "markdown",
      "source": [
        "input() 및 유형 캐스팅 에 대한 추가 정보\n",
        "\n",
        "빗변의 길이를 구하는 이전 프로그램을 참조합니다.\n",
        "\n",
        "이를 다시 작성하여 콘솔에서 다리 길이를 읽을 수 있도록 하자."
      ],
      "metadata": {
        "id": "diuHfcv28TFc"
      }
    },
    {
      "cell_type": "code",
      "source": [
        "leg_a = float(input(\"Input first leg length: \"))\n",
        "leg_b = float(input(\"Input second leg length: \"))\n",
        "hypo = (leg_a**2 + leg_b**2) ** .5\n",
        "print(\"Hypotenuse length is\", hypo)\n",
        "\n",
        "음수를 넣었음에도 오류에 반응하지 않습니다.(여기서 일단 이 오류는 무시)"
      ],
      "metadata": {
        "colab": {
          "base_uri": "https://localhost:8080/"
        },
        "id": "Juwt5b1H8erp",
        "outputId": "b30b439b-10a7-4b66-dc59-f187622feffd"
      },
      "execution_count": 67,
      "outputs": [
        {
          "output_type": "stream",
          "name": "stdout",
          "text": [
            "Input first leg length: -1\n",
            "Input second leg length: 2\n",
            "Hypotenuse length is 2.23606797749979\n"
          ]
        }
      ]
    },
    {
      "cell_type": "code",
      "source": [
        "leg_a = float(input(\"Input first leg length: \"))\n",
        "leg_b = float(input(\"Input second leg length: \"))\n",
        "print(\"Hypotenuse length is\", (leg_a**2 + leg_b**2) ** .5)\n",
        "\n",
        "편집기에서 볼 수 있는 프로그램에서 hypo변수는 인접한 코드 줄 실행 사이에 계산된 값을 저장하는 한 가지 목적으로만 사용됨.\n",
        "print()함수가 표현식을 인수로 허용 하므로 코드에서 변수를 제거 할 수 있습니다."
      ],
      "metadata": {
        "colab": {
          "base_uri": "https://localhost:8080/"
        },
        "id": "LMN8dSfM8ymr",
        "outputId": "cff4b1d3-9bde-4ed4-a19a-d7769ef9ca4a"
      },
      "execution_count": 68,
      "outputs": [
        {
          "output_type": "stream",
          "name": "stdout",
          "text": [
            "Input first leg length: -1\n",
            "Input second leg length: 2\n",
            "Hypotenuse length is 2.23606797749979\n"
          ]
        }
      ]
    },
    {
      "cell_type": "markdown",
      "source": [
        "연쇄\n",
        "\n",
        "(더하기) 기호 +는 두 문자열에 적용될 때 연결 연산자가 됨.\n",
        "\n",
        "＊ 산술 형제와 달리 연결 연산자는 교환 가능하지 않다.\n",
        "\n",
        "＊ 즉, \"ab\" + \"ba\"는 \"ba\" + \"ab\"와 동일하지 않음.\n",
        "\n",
        "＊ 부호를 + 가 아닌 연결자로 만들고 싶다면 두 인수가 모두\n",
        "   \n",
        "  　문자열인지 확인해야함\n",
        "\n"
      ],
      "metadata": {
        "id": "JdsM-Wx4-gzN"
      }
    },
    {
      "cell_type": "code",
      "source": [
        "fnam = input(\"May I have your first name, please? \")\n",
        "lnam = input(\"May I have your last name, please? \")\n",
        "print(\"Thank you.\")\n",
        "print(\"\\nYour name is \" + fnam + \" \" + lnam + \".\")\n",
        "\n",
        "문자열을 연결하는데 +를 사용하면 end= 및 sep= 키워드 인수로 보강된 경우에도 순수 print() 함수를 사용하는 것보다 더 정확한 방식으로 출력을 구성할수 있음."
      ],
      "metadata": {
        "colab": {
          "base_uri": "https://localhost:8080/"
        },
        "id": "NJvrOymS_BPR",
        "outputId": "a8d8ef4c-7030-42a7-efe6-c888690bd2cd"
      },
      "execution_count": 70,
      "outputs": [
        {
          "output_type": "stream",
          "name": "stdout",
          "text": [
            "May I have your first name, please? SeungJo\n",
            "May I have your last name, please? Beom\n",
            "Thank you.\n",
            "\n",
            "Your name is SeungJo Beom.\n"
          ]
        }
      ]
    },
    {
      "cell_type": "markdown",
      "source": [
        "복제\n",
        "\n",
        "( 별표 *) 기호는 문자열과 숫자에 적용될 때 복제 연산자가 됨.\n",
        "\n",
        "＊ string * number / number * string\n",
        "\n",
        "예를 들어:\n",
        "\n",
        "- \"James\" * 3준다 → \"JamesJamesJames\"\n",
        "- 3 * \"an\"준다 → \"ananan\"\n",
        "- 5 * \"2\"(또는 \"2\" * 5) 제공 → \"22222\"(아님 10!)"
      ],
      "metadata": {
        "id": "Po2BONsY_u9K"
      }
    },
    {
      "cell_type": "markdown",
      "source": [
        "유형 변환: str()\n",
        "\n",
        "문자열을 숫자로 변환하기 위해 int() 및 float() 함수를 사용하고\n",
        "\n",
        " 숫자를 문자열로 변환 할 수도 있는데, 이는 훨씬 쉽고 안전함\n",
        "＊ 이를 수행할 수 있는 함수 : str()\n"
      ],
      "metadata": {
        "id": "XFoUxDJvAWga"
      }
    }
  ]
}